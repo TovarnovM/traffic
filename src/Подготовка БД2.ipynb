{
 "cells": [
  {
   "cell_type": "code",
   "execution_count": 1,
   "id": "bdedd54c-576a-406c-8e0c-a664c8850511",
   "metadata": {},
   "outputs": [],
   "source": [
    "import pandas as pd\n",
    "import numpy as np\n",
    "from tqdm import tqdm\n",
    "import glob"
   ]
  },
  {
   "cell_type": "code",
   "execution_count": 5,
   "id": "225cb043-245a-4647-88e0-b4e31d3d7dae",
   "metadata": {},
   "outputs": [],
   "source": [
    "import os\n",
    "import pickle"
   ]
  },
  {
   "cell_type": "code",
   "execution_count": 46,
   "id": "6a128454-82ab-4215-a9fa-55ced58540f3",
   "metadata": {},
   "outputs": [
    {
     "name": "stdout",
     "output_type": "stream",
     "text": [
      "11\n"
     ]
    }
   ],
   "source": [
    "for i in range(10):\n",
    "    if i ==30:\n",
    "        break\n",
    "else:\n",
    "    print('11')"
   ]
  },
  {
   "cell_type": "code",
   "execution_count": 5,
   "id": "256aa825-868c-4f6c-8d1d-0de74cf8172c",
   "metadata": {},
   "outputs": [],
   "source": [
    "all_csvs = glob.glob('data/s_nfs_model_for_ml/*.csv')"
   ]
  },
  {
   "cell_type": "code",
   "execution_count": 28,
   "id": "18c2a96d-2c64-4787-9a8c-359e6bc95078",
   "metadata": {},
   "outputs": [],
   "source": [
    "df = pd.read_csv(all_csvs[1])"
   ]
  },
  {
   "cell_type": "code",
   "execution_count": 29,
   "id": "3343a075-e685-4914-8962-f65a7ae71e6d",
   "metadata": {},
   "outputs": [
    {
     "data": {
      "text/html": [
       "<div>\n",
       "<style scoped>\n",
       "    .dataframe tbody tr th:only-of-type {\n",
       "        vertical-align: middle;\n",
       "    }\n",
       "\n",
       "    .dataframe tbody tr th {\n",
       "        vertical-align: top;\n",
       "    }\n",
       "\n",
       "    .dataframe thead th {\n",
       "        text-align: right;\n",
       "    }\n",
       "</style>\n",
       "<table border=\"1\" class=\"dataframe\">\n",
       "  <thead>\n",
       "    <tr style=\"text-align: right;\">\n",
       "      <th></th>\n",
       "      <th>vehicle_id</th>\n",
       "      <th>velocity</th>\n",
       "      <th>changed_line</th>\n",
       "      <th>type</th>\n",
       "      <th>pos_x</th>\n",
       "      <th>pos_y</th>\n",
       "      <th>distance_prev</th>\n",
       "      <th>distance_next</th>\n",
       "      <th>time</th>\n",
       "    </tr>\n",
       "  </thead>\n",
       "  <tbody>\n",
       "    <tr>\n",
       "      <th>0</th>\n",
       "      <td>8863171221134380171530819377170896357</td>\n",
       "      <td>5</td>\n",
       "      <td>False</td>\n",
       "      <td>HDV</td>\n",
       "      <td>0</td>\n",
       "      <td>0</td>\n",
       "      <td>1</td>\n",
       "      <td>10</td>\n",
       "      <td>0</td>\n",
       "    </tr>\n",
       "    <tr>\n",
       "      <th>1</th>\n",
       "      <td>137359989859345751986368655129989596218</td>\n",
       "      <td>5</td>\n",
       "      <td>False</td>\n",
       "      <td>AV</td>\n",
       "      <td>11</td>\n",
       "      <td>0</td>\n",
       "      <td>10</td>\n",
       "      <td>11</td>\n",
       "      <td>0</td>\n",
       "    </tr>\n",
       "    <tr>\n",
       "      <th>2</th>\n",
       "      <td>33128003915771874161996989168048555981</td>\n",
       "      <td>5</td>\n",
       "      <td>False</td>\n",
       "      <td>HDV_DEF</td>\n",
       "      <td>23</td>\n",
       "      <td>0</td>\n",
       "      <td>11</td>\n",
       "      <td>6</td>\n",
       "      <td>0</td>\n",
       "    </tr>\n",
       "    <tr>\n",
       "      <th>3</th>\n",
       "      <td>67924099065562193339702259796390348844</td>\n",
       "      <td>5</td>\n",
       "      <td>False</td>\n",
       "      <td>HDV_DEF</td>\n",
       "      <td>30</td>\n",
       "      <td>0</td>\n",
       "      <td>6</td>\n",
       "      <td>4</td>\n",
       "      <td>0</td>\n",
       "    </tr>\n",
       "    <tr>\n",
       "      <th>4</th>\n",
       "      <td>180498720635163394443823915752666694708</td>\n",
       "      <td>5</td>\n",
       "      <td>False</td>\n",
       "      <td>HDV_DEF</td>\n",
       "      <td>35</td>\n",
       "      <td>0</td>\n",
       "      <td>4</td>\n",
       "      <td>7</td>\n",
       "      <td>0</td>\n",
       "    </tr>\n",
       "    <tr>\n",
       "      <th>...</th>\n",
       "      <td>...</td>\n",
       "      <td>...</td>\n",
       "      <td>...</td>\n",
       "      <td>...</td>\n",
       "      <td>...</td>\n",
       "      <td>...</td>\n",
       "      <td>...</td>\n",
       "      <td>...</td>\n",
       "      <td>...</td>\n",
       "    </tr>\n",
       "    <tr>\n",
       "      <th>98995</th>\n",
       "      <td>179127729625399758694475027611916778911</td>\n",
       "      <td>5</td>\n",
       "      <td>False</td>\n",
       "      <td>AV</td>\n",
       "      <td>453</td>\n",
       "      <td>1</td>\n",
       "      <td>1</td>\n",
       "      <td>21</td>\n",
       "      <td>999</td>\n",
       "    </tr>\n",
       "    <tr>\n",
       "      <th>98996</th>\n",
       "      <td>48203085785251238059817942562799395903</td>\n",
       "      <td>5</td>\n",
       "      <td>False</td>\n",
       "      <td>AV</td>\n",
       "      <td>475</td>\n",
       "      <td>1</td>\n",
       "      <td>21</td>\n",
       "      <td>10</td>\n",
       "      <td>999</td>\n",
       "    </tr>\n",
       "    <tr>\n",
       "      <th>98997</th>\n",
       "      <td>281188607545759550569287925499156758862</td>\n",
       "      <td>5</td>\n",
       "      <td>False</td>\n",
       "      <td>HDV_DEF</td>\n",
       "      <td>486</td>\n",
       "      <td>1</td>\n",
       "      <td>10</td>\n",
       "      <td>5</td>\n",
       "      <td>999</td>\n",
       "    </tr>\n",
       "    <tr>\n",
       "      <th>98998</th>\n",
       "      <td>281595833580348730024900785738880892901</td>\n",
       "      <td>5</td>\n",
       "      <td>False</td>\n",
       "      <td>HDV_DEF</td>\n",
       "      <td>492</td>\n",
       "      <td>1</td>\n",
       "      <td>5</td>\n",
       "      <td>3</td>\n",
       "      <td>999</td>\n",
       "    </tr>\n",
       "    <tr>\n",
       "      <th>98999</th>\n",
       "      <td>335800754757501682197827436500920234172</td>\n",
       "      <td>5</td>\n",
       "      <td>False</td>\n",
       "      <td>HDV_DEF</td>\n",
       "      <td>496</td>\n",
       "      <td>1</td>\n",
       "      <td>3</td>\n",
       "      <td>4</td>\n",
       "      <td>999</td>\n",
       "    </tr>\n",
       "  </tbody>\n",
       "</table>\n",
       "<p>99000 rows × 9 columns</p>\n",
       "</div>"
      ],
      "text/plain": [
       "                                    vehicle_id  velocity  changed_line   \n",
       "0        8863171221134380171530819377170896357         5         False  \\\n",
       "1      137359989859345751986368655129989596218         5         False   \n",
       "2       33128003915771874161996989168048555981         5         False   \n",
       "3       67924099065562193339702259796390348844         5         False   \n",
       "4      180498720635163394443823915752666694708         5         False   \n",
       "...                                        ...       ...           ...   \n",
       "98995  179127729625399758694475027611916778911         5         False   \n",
       "98996   48203085785251238059817942562799395903         5         False   \n",
       "98997  281188607545759550569287925499156758862         5         False   \n",
       "98998  281595833580348730024900785738880892901         5         False   \n",
       "98999  335800754757501682197827436500920234172         5         False   \n",
       "\n",
       "          type  pos_x  pos_y  distance_prev  distance_next  time  \n",
       "0          HDV      0      0              1             10     0  \n",
       "1           AV     11      0             10             11     0  \n",
       "2      HDV_DEF     23      0             11              6     0  \n",
       "3      HDV_DEF     30      0              6              4     0  \n",
       "4      HDV_DEF     35      0              4              7     0  \n",
       "...        ...    ...    ...            ...            ...   ...  \n",
       "98995       AV    453      1              1             21   999  \n",
       "98996       AV    475      1             21             10   999  \n",
       "98997  HDV_DEF    486      1             10              5   999  \n",
       "98998  HDV_DEF    492      1              5              3   999  \n",
       "98999  HDV_DEF    496      1              3              4   999  \n",
       "\n",
       "[99000 rows x 9 columns]"
      ]
     },
     "execution_count": 29,
     "metadata": {},
     "output_type": "execute_result"
    }
   ],
   "source": [
    "df"
   ]
  },
  {
   "cell_type": "code",
   "execution_count": 33,
   "id": "af452bbf-42c4-4060-a8f0-bd39d41747de",
   "metadata": {},
   "outputs": [],
   "source": [
    "for col in df.columns:\n",
    "    if np.any(df[col].isna()):\n",
    "        print(col)"
   ]
  },
  {
   "cell_type": "code",
   "execution_count": 34,
   "id": "beef68fd-c410-40e1-b358-ea26894c81df",
   "metadata": {},
   "outputs": [
    {
     "data": {
      "text/html": [
       "<div>\n",
       "<style scoped>\n",
       "    .dataframe tbody tr th:only-of-type {\n",
       "        vertical-align: middle;\n",
       "    }\n",
       "\n",
       "    .dataframe tbody tr th {\n",
       "        vertical-align: top;\n",
       "    }\n",
       "\n",
       "    .dataframe thead th {\n",
       "        text-align: right;\n",
       "    }\n",
       "</style>\n",
       "<table border=\"1\" class=\"dataframe\">\n",
       "  <thead>\n",
       "    <tr style=\"text-align: right;\">\n",
       "      <th></th>\n",
       "      <th>velocity</th>\n",
       "      <th>pos_x</th>\n",
       "      <th>pos_y</th>\n",
       "      <th>distance_prev</th>\n",
       "      <th>distance_next</th>\n",
       "      <th>time</th>\n",
       "    </tr>\n",
       "  </thead>\n",
       "  <tbody>\n",
       "    <tr>\n",
       "      <th>count</th>\n",
       "      <td>99000.000000</td>\n",
       "      <td>99000.000000</td>\n",
       "      <td>99000.000000</td>\n",
       "      <td>99000.000000</td>\n",
       "      <td>99000.000000</td>\n",
       "      <td>99000.000000</td>\n",
       "    </tr>\n",
       "    <tr>\n",
       "      <th>mean</th>\n",
       "      <td>4.764040</td>\n",
       "      <td>248.475980</td>\n",
       "      <td>0.500404</td>\n",
       "      <td>9.101010</td>\n",
       "      <td>9.101010</td>\n",
       "      <td>499.500000</td>\n",
       "    </tr>\n",
       "    <tr>\n",
       "      <th>std</th>\n",
       "      <td>0.529439</td>\n",
       "      <td>144.180014</td>\n",
       "      <td>0.500002</td>\n",
       "      <td>10.356665</td>\n",
       "      <td>10.356665</td>\n",
       "      <td>288.676448</td>\n",
       "    </tr>\n",
       "    <tr>\n",
       "      <th>min</th>\n",
       "      <td>0.000000</td>\n",
       "      <td>0.000000</td>\n",
       "      <td>0.000000</td>\n",
       "      <td>0.000000</td>\n",
       "      <td>0.000000</td>\n",
       "      <td>0.000000</td>\n",
       "    </tr>\n",
       "    <tr>\n",
       "      <th>25%</th>\n",
       "      <td>5.000000</td>\n",
       "      <td>123.000000</td>\n",
       "      <td>0.000000</td>\n",
       "      <td>3.000000</td>\n",
       "      <td>3.000000</td>\n",
       "      <td>249.750000</td>\n",
       "    </tr>\n",
       "    <tr>\n",
       "      <th>50%</th>\n",
       "      <td>5.000000</td>\n",
       "      <td>248.000000</td>\n",
       "      <td>1.000000</td>\n",
       "      <td>6.000000</td>\n",
       "      <td>6.000000</td>\n",
       "      <td>499.500000</td>\n",
       "    </tr>\n",
       "    <tr>\n",
       "      <th>75%</th>\n",
       "      <td>5.000000</td>\n",
       "      <td>373.000000</td>\n",
       "      <td>1.000000</td>\n",
       "      <td>11.000000</td>\n",
       "      <td>11.000000</td>\n",
       "      <td>749.250000</td>\n",
       "    </tr>\n",
       "    <tr>\n",
       "      <th>max</th>\n",
       "      <td>5.000000</td>\n",
       "      <td>499.000000</td>\n",
       "      <td>1.000000</td>\n",
       "      <td>81.000000</td>\n",
       "      <td>81.000000</td>\n",
       "      <td>999.000000</td>\n",
       "    </tr>\n",
       "  </tbody>\n",
       "</table>\n",
       "</div>"
      ],
      "text/plain": [
       "           velocity         pos_x         pos_y  distance_prev  distance_next   \n",
       "count  99000.000000  99000.000000  99000.000000   99000.000000   99000.000000  \\\n",
       "mean       4.764040    248.475980      0.500404       9.101010       9.101010   \n",
       "std        0.529439    144.180014      0.500002      10.356665      10.356665   \n",
       "min        0.000000      0.000000      0.000000       0.000000       0.000000   \n",
       "25%        5.000000    123.000000      0.000000       3.000000       3.000000   \n",
       "50%        5.000000    248.000000      1.000000       6.000000       6.000000   \n",
       "75%        5.000000    373.000000      1.000000      11.000000      11.000000   \n",
       "max        5.000000    499.000000      1.000000      81.000000      81.000000   \n",
       "\n",
       "               time  \n",
       "count  99000.000000  \n",
       "mean     499.500000  \n",
       "std      288.676448  \n",
       "min        0.000000  \n",
       "25%      249.750000  \n",
       "50%      499.500000  \n",
       "75%      749.250000  \n",
       "max      999.000000  "
      ]
     },
     "execution_count": 34,
     "metadata": {},
     "output_type": "execute_result"
    }
   ],
   "source": [
    "df.describe()"
   ]
  },
  {
   "cell_type": "code",
   "execution_count": 35,
   "id": "958913ed-c4d9-494f-9345-83ddb5ee28f1",
   "metadata": {},
   "outputs": [
    {
     "data": {
      "text/plain": [
       "{'AV', 'HDV', 'HDV_DEF'}"
      ]
     },
     "execution_count": 35,
     "metadata": {},
     "output_type": "execute_result"
    }
   ],
   "source": [
    "set(df['type'])"
   ]
  },
  {
   "cell_type": "code",
   "execution_count": 36,
   "id": "e289517f-1986-4284-b5f3-8132a7488973",
   "metadata": {},
   "outputs": [],
   "source": []
  },
  {
   "cell_type": "code",
   "execution_count": 37,
   "id": "19895060-a023-4abe-adfa-28b183f5471a",
   "metadata": {},
   "outputs": [
    {
     "data": {
      "text/html": [
       "<div>\n",
       "<style scoped>\n",
       "    .dataframe tbody tr th:only-of-type {\n",
       "        vertical-align: middle;\n",
       "    }\n",
       "\n",
       "    .dataframe tbody tr th {\n",
       "        vertical-align: top;\n",
       "    }\n",
       "\n",
       "    .dataframe thead th {\n",
       "        text-align: right;\n",
       "    }\n",
       "</style>\n",
       "<table border=\"1\" class=\"dataframe\">\n",
       "  <thead>\n",
       "    <tr style=\"text-align: right;\">\n",
       "      <th></th>\n",
       "      <th>vehicle_id</th>\n",
       "      <th>velocity</th>\n",
       "      <th>changed_line</th>\n",
       "      <th>type</th>\n",
       "      <th>pos_x</th>\n",
       "      <th>pos_y</th>\n",
       "      <th>distance_prev</th>\n",
       "      <th>distance_next</th>\n",
       "      <th>time</th>\n",
       "    </tr>\n",
       "  </thead>\n",
       "  <tbody>\n",
       "    <tr>\n",
       "      <th>0</th>\n",
       "      <td>51</td>\n",
       "      <td>5</td>\n",
       "      <td>False</td>\n",
       "      <td>HDV</td>\n",
       "      <td>0</td>\n",
       "      <td>0</td>\n",
       "      <td>1</td>\n",
       "      <td>10</td>\n",
       "      <td>0</td>\n",
       "    </tr>\n",
       "    <tr>\n",
       "      <th>1</th>\n",
       "      <td>48</td>\n",
       "      <td>5</td>\n",
       "      <td>False</td>\n",
       "      <td>AV</td>\n",
       "      <td>11</td>\n",
       "      <td>0</td>\n",
       "      <td>10</td>\n",
       "      <td>11</td>\n",
       "      <td>0</td>\n",
       "    </tr>\n",
       "    <tr>\n",
       "      <th>2</th>\n",
       "      <td>12</td>\n",
       "      <td>5</td>\n",
       "      <td>False</td>\n",
       "      <td>HDV_DEF</td>\n",
       "      <td>23</td>\n",
       "      <td>0</td>\n",
       "      <td>11</td>\n",
       "      <td>6</td>\n",
       "      <td>0</td>\n",
       "    </tr>\n",
       "    <tr>\n",
       "      <th>3</th>\n",
       "      <td>36</td>\n",
       "      <td>5</td>\n",
       "      <td>False</td>\n",
       "      <td>HDV_DEF</td>\n",
       "      <td>30</td>\n",
       "      <td>0</td>\n",
       "      <td>6</td>\n",
       "      <td>4</td>\n",
       "      <td>0</td>\n",
       "    </tr>\n",
       "    <tr>\n",
       "      <th>4</th>\n",
       "      <td>2</td>\n",
       "      <td>5</td>\n",
       "      <td>False</td>\n",
       "      <td>HDV_DEF</td>\n",
       "      <td>35</td>\n",
       "      <td>0</td>\n",
       "      <td>4</td>\n",
       "      <td>7</td>\n",
       "      <td>0</td>\n",
       "    </tr>\n",
       "    <tr>\n",
       "      <th>...</th>\n",
       "      <td>...</td>\n",
       "      <td>...</td>\n",
       "      <td>...</td>\n",
       "      <td>...</td>\n",
       "      <td>...</td>\n",
       "      <td>...</td>\n",
       "      <td>...</td>\n",
       "      <td>...</td>\n",
       "      <td>...</td>\n",
       "    </tr>\n",
       "    <tr>\n",
       "      <th>98995</th>\n",
       "      <td>76</td>\n",
       "      <td>5</td>\n",
       "      <td>False</td>\n",
       "      <td>AV</td>\n",
       "      <td>453</td>\n",
       "      <td>1</td>\n",
       "      <td>1</td>\n",
       "      <td>21</td>\n",
       "      <td>999</td>\n",
       "    </tr>\n",
       "    <tr>\n",
       "      <th>98996</th>\n",
       "      <td>16</td>\n",
       "      <td>5</td>\n",
       "      <td>False</td>\n",
       "      <td>AV</td>\n",
       "      <td>475</td>\n",
       "      <td>1</td>\n",
       "      <td>21</td>\n",
       "      <td>10</td>\n",
       "      <td>999</td>\n",
       "    </tr>\n",
       "    <tr>\n",
       "      <th>98997</th>\n",
       "      <td>62</td>\n",
       "      <td>5</td>\n",
       "      <td>False</td>\n",
       "      <td>HDV_DEF</td>\n",
       "      <td>486</td>\n",
       "      <td>1</td>\n",
       "      <td>10</td>\n",
       "      <td>5</td>\n",
       "      <td>999</td>\n",
       "    </tr>\n",
       "    <tr>\n",
       "      <th>98998</th>\n",
       "      <td>47</td>\n",
       "      <td>5</td>\n",
       "      <td>False</td>\n",
       "      <td>HDV_DEF</td>\n",
       "      <td>492</td>\n",
       "      <td>1</td>\n",
       "      <td>5</td>\n",
       "      <td>3</td>\n",
       "      <td>999</td>\n",
       "    </tr>\n",
       "    <tr>\n",
       "      <th>98999</th>\n",
       "      <td>82</td>\n",
       "      <td>5</td>\n",
       "      <td>False</td>\n",
       "      <td>HDV_DEF</td>\n",
       "      <td>496</td>\n",
       "      <td>1</td>\n",
       "      <td>3</td>\n",
       "      <td>4</td>\n",
       "      <td>999</td>\n",
       "    </tr>\n",
       "  </tbody>\n",
       "</table>\n",
       "<p>99000 rows × 9 columns</p>\n",
       "</div>"
      ],
      "text/plain": [
       "      vehicle_id  velocity  changed_line     type  pos_x  pos_y   \n",
       "0             51         5         False      HDV      0      0  \\\n",
       "1             48         5         False       AV     11      0   \n",
       "2             12         5         False  HDV_DEF     23      0   \n",
       "3             36         5         False  HDV_DEF     30      0   \n",
       "4              2         5         False  HDV_DEF     35      0   \n",
       "...          ...       ...           ...      ...    ...    ...   \n",
       "98995         76         5         False       AV    453      1   \n",
       "98996         16         5         False       AV    475      1   \n",
       "98997         62         5         False  HDV_DEF    486      1   \n",
       "98998         47         5         False  HDV_DEF    492      1   \n",
       "98999         82         5         False  HDV_DEF    496      1   \n",
       "\n",
       "       distance_prev  distance_next  time  \n",
       "0                  1             10     0  \n",
       "1                 10             11     0  \n",
       "2                 11              6     0  \n",
       "3                  6              4     0  \n",
       "4                  4              7     0  \n",
       "...              ...            ...   ...  \n",
       "98995              1             21   999  \n",
       "98996             21             10   999  \n",
       "98997             10              5   999  \n",
       "98998              5              3   999  \n",
       "98999              3              4   999  \n",
       "\n",
       "[99000 rows x 9 columns]"
      ]
     },
     "execution_count": 37,
     "metadata": {},
     "output_type": "execute_result"
    }
   ],
   "source": [
    "def clean_vehicle_ids(df, id0=0):\n",
    "    dfres = df.copy()\n",
    "    for vid in set(df['vehicle_id']):\n",
    "        dfres.loc[dfres['vehicle_id'] == vid, 'vehicle_id'] = id0\n",
    "        id0 += 1\n",
    "    return dfres\n",
    "df = clean_vehicle_ids(df)\n",
    "df"
   ]
  },
  {
   "cell_type": "code",
   "execution_count": 38,
   "id": "9be6bd1c-a0e1-4531-8edb-ce124ab3c40b",
   "metadata": {},
   "outputs": [
    {
     "data": {
      "text/html": [
       "<div>\n",
       "<style scoped>\n",
       "    .dataframe tbody tr th:only-of-type {\n",
       "        vertical-align: middle;\n",
       "    }\n",
       "\n",
       "    .dataframe tbody tr th {\n",
       "        vertical-align: top;\n",
       "    }\n",
       "\n",
       "    .dataframe thead th {\n",
       "        text-align: right;\n",
       "    }\n",
       "</style>\n",
       "<table border=\"1\" class=\"dataframe\">\n",
       "  <thead>\n",
       "    <tr style=\"text-align: right;\">\n",
       "      <th></th>\n",
       "      <th>vehicle_id</th>\n",
       "      <th>velocity</th>\n",
       "      <th>changed_line</th>\n",
       "      <th>type</th>\n",
       "      <th>pos_x</th>\n",
       "      <th>pos_y</th>\n",
       "      <th>distance_prev</th>\n",
       "      <th>distance_next</th>\n",
       "      <th>time</th>\n",
       "    </tr>\n",
       "  </thead>\n",
       "  <tbody>\n",
       "    <tr>\n",
       "      <th>98010</th>\n",
       "      <td>22</td>\n",
       "      <td>5</td>\n",
       "      <td>False</td>\n",
       "      <td>HDV</td>\n",
       "      <td>4</td>\n",
       "      <td>0</td>\n",
       "      <td>54</td>\n",
       "      <td>8</td>\n",
       "      <td>990</td>\n",
       "    </tr>\n",
       "    <tr>\n",
       "      <th>98011</th>\n",
       "      <td>90</td>\n",
       "      <td>5</td>\n",
       "      <td>False</td>\n",
       "      <td>HDV_DEF</td>\n",
       "      <td>13</td>\n",
       "      <td>0</td>\n",
       "      <td>8</td>\n",
       "      <td>1</td>\n",
       "      <td>990</td>\n",
       "    </tr>\n",
       "    <tr>\n",
       "      <th>98012</th>\n",
       "      <td>89</td>\n",
       "      <td>5</td>\n",
       "      <td>False</td>\n",
       "      <td>AV</td>\n",
       "      <td>15</td>\n",
       "      <td>0</td>\n",
       "      <td>1</td>\n",
       "      <td>25</td>\n",
       "      <td>990</td>\n",
       "    </tr>\n",
       "    <tr>\n",
       "      <th>98013</th>\n",
       "      <td>9</td>\n",
       "      <td>5</td>\n",
       "      <td>False</td>\n",
       "      <td>HDV_DEF</td>\n",
       "      <td>41</td>\n",
       "      <td>0</td>\n",
       "      <td>25</td>\n",
       "      <td>15</td>\n",
       "      <td>990</td>\n",
       "    </tr>\n",
       "    <tr>\n",
       "      <th>98014</th>\n",
       "      <td>15</td>\n",
       "      <td>5</td>\n",
       "      <td>False</td>\n",
       "      <td>HDV_DEF</td>\n",
       "      <td>57</td>\n",
       "      <td>0</td>\n",
       "      <td>15</td>\n",
       "      <td>7</td>\n",
       "      <td>990</td>\n",
       "    </tr>\n",
       "    <tr>\n",
       "      <th>...</th>\n",
       "      <td>...</td>\n",
       "      <td>...</td>\n",
       "      <td>...</td>\n",
       "      <td>...</td>\n",
       "      <td>...</td>\n",
       "      <td>...</td>\n",
       "      <td>...</td>\n",
       "      <td>...</td>\n",
       "      <td>...</td>\n",
       "    </tr>\n",
       "    <tr>\n",
       "      <th>98104</th>\n",
       "      <td>70</td>\n",
       "      <td>3</td>\n",
       "      <td>False</td>\n",
       "      <td>HDV_DEF</td>\n",
       "      <td>462</td>\n",
       "      <td>1</td>\n",
       "      <td>2</td>\n",
       "      <td>10</td>\n",
       "      <td>990</td>\n",
       "    </tr>\n",
       "    <tr>\n",
       "      <th>98105</th>\n",
       "      <td>28</td>\n",
       "      <td>3</td>\n",
       "      <td>False</td>\n",
       "      <td>HDV_DEF</td>\n",
       "      <td>473</td>\n",
       "      <td>1</td>\n",
       "      <td>10</td>\n",
       "      <td>5</td>\n",
       "      <td>990</td>\n",
       "    </tr>\n",
       "    <tr>\n",
       "      <th>98106</th>\n",
       "      <td>14</td>\n",
       "      <td>5</td>\n",
       "      <td>False</td>\n",
       "      <td>HDV_DEF</td>\n",
       "      <td>479</td>\n",
       "      <td>1</td>\n",
       "      <td>5</td>\n",
       "      <td>8</td>\n",
       "      <td>990</td>\n",
       "    </tr>\n",
       "    <tr>\n",
       "      <th>98107</th>\n",
       "      <td>5</td>\n",
       "      <td>5</td>\n",
       "      <td>False</td>\n",
       "      <td>HDV_DEF</td>\n",
       "      <td>488</td>\n",
       "      <td>1</td>\n",
       "      <td>8</td>\n",
       "      <td>4</td>\n",
       "      <td>990</td>\n",
       "    </tr>\n",
       "    <tr>\n",
       "      <th>98108</th>\n",
       "      <td>56</td>\n",
       "      <td>5</td>\n",
       "      <td>False</td>\n",
       "      <td>HDV_DEF</td>\n",
       "      <td>493</td>\n",
       "      <td>1</td>\n",
       "      <td>4</td>\n",
       "      <td>8</td>\n",
       "      <td>990</td>\n",
       "    </tr>\n",
       "  </tbody>\n",
       "</table>\n",
       "<p>99 rows × 9 columns</p>\n",
       "</div>"
      ],
      "text/plain": [
       "      vehicle_id  velocity  changed_line     type  pos_x  pos_y   \n",
       "98010         22         5         False      HDV      4      0  \\\n",
       "98011         90         5         False  HDV_DEF     13      0   \n",
       "98012         89         5         False       AV     15      0   \n",
       "98013          9         5         False  HDV_DEF     41      0   \n",
       "98014         15         5         False  HDV_DEF     57      0   \n",
       "...          ...       ...           ...      ...    ...    ...   \n",
       "98104         70         3         False  HDV_DEF    462      1   \n",
       "98105         28         3         False  HDV_DEF    473      1   \n",
       "98106         14         5         False  HDV_DEF    479      1   \n",
       "98107          5         5         False  HDV_DEF    488      1   \n",
       "98108         56         5         False  HDV_DEF    493      1   \n",
       "\n",
       "       distance_prev  distance_next  time  \n",
       "98010             54              8   990  \n",
       "98011              8              1   990  \n",
       "98012              1             25   990  \n",
       "98013             25             15   990  \n",
       "98014             15              7   990  \n",
       "...              ...            ...   ...  \n",
       "98104              2             10   990  \n",
       "98105             10              5   990  \n",
       "98106              5              8   990  \n",
       "98107              8              4   990  \n",
       "98108              4              8   990  \n",
       "\n",
       "[99 rows x 9 columns]"
      ]
     },
     "execution_count": 38,
     "metadata": {},
     "output_type": "execute_result"
    }
   ],
   "source": [
    "def extract_step(df, step):\n",
    "    dfs = df[df['time'] == step]\n",
    "    return dfs\n",
    "\n",
    "dfs = extract_step(df, 990)\n",
    "dfs"
   ]
  },
  {
   "cell_type": "code",
   "execution_count": 43,
   "id": "94838878-8fae-4ce9-acbc-ab7e74571c2f",
   "metadata": {},
   "outputs": [
    {
     "data": {
      "text/html": [
       "<div>\n",
       "<style scoped>\n",
       "    .dataframe tbody tr th:only-of-type {\n",
       "        vertical-align: middle;\n",
       "    }\n",
       "\n",
       "    .dataframe tbody tr th {\n",
       "        vertical-align: top;\n",
       "    }\n",
       "\n",
       "    .dataframe thead th {\n",
       "        text-align: right;\n",
       "    }\n",
       "</style>\n",
       "<table border=\"1\" class=\"dataframe\">\n",
       "  <thead>\n",
       "    <tr style=\"text-align: right;\">\n",
       "      <th></th>\n",
       "      <th>vehicle_id</th>\n",
       "      <th>velocity</th>\n",
       "      <th>changed_line</th>\n",
       "      <th>type</th>\n",
       "      <th>pos_x</th>\n",
       "      <th>pos_y</th>\n",
       "      <th>distance_prev</th>\n",
       "      <th>distance_next</th>\n",
       "      <th>time</th>\n",
       "    </tr>\n",
       "  </thead>\n",
       "  <tbody>\n",
       "    <tr>\n",
       "      <th>98024</th>\n",
       "      <td>58</td>\n",
       "      <td>5</td>\n",
       "      <td>False</td>\n",
       "      <td>HDV</td>\n",
       "      <td>4</td>\n",
       "      <td>0</td>\n",
       "      <td>21</td>\n",
       "      <td>6</td>\n",
       "      <td>990</td>\n",
       "    </tr>\n",
       "    <tr>\n",
       "      <th>98068</th>\n",
       "      <td>68</td>\n",
       "      <td>4</td>\n",
       "      <td>False</td>\n",
       "      <td>HDV_DEF</td>\n",
       "      <td>2</td>\n",
       "      <td>1</td>\n",
       "      <td>6</td>\n",
       "      <td>1</td>\n",
       "      <td>990</td>\n",
       "    </tr>\n",
       "    <tr>\n",
       "      <th>98069</th>\n",
       "      <td>1</td>\n",
       "      <td>2</td>\n",
       "      <td>False</td>\n",
       "      <td>AV</td>\n",
       "      <td>4</td>\n",
       "      <td>1</td>\n",
       "      <td>1</td>\n",
       "      <td>0</td>\n",
       "      <td>990</td>\n",
       "    </tr>\n",
       "    <tr>\n",
       "      <th>98070</th>\n",
       "      <td>85</td>\n",
       "      <td>2</td>\n",
       "      <td>False</td>\n",
       "      <td>AV</td>\n",
       "      <td>5</td>\n",
       "      <td>1</td>\n",
       "      <td>0</td>\n",
       "      <td>7</td>\n",
       "      <td>990</td>\n",
       "    </tr>\n",
       "  </tbody>\n",
       "</table>\n",
       "</div>"
      ],
      "text/plain": [
       "      vehicle_id  velocity  changed_line     type  pos_x  pos_y   \n",
       "98024         58         5         False      HDV      4      0  \\\n",
       "98068         68         4         False  HDV_DEF      2      1   \n",
       "98069          1         2         False       AV      4      1   \n",
       "98070         85         2         False       AV      5      1   \n",
       "\n",
       "       distance_prev  distance_next  time  \n",
       "98024             21              6   990  \n",
       "98068              6              1   990  \n",
       "98069              1              0   990  \n",
       "98070              0              7   990  "
      ]
     },
     "execution_count": 43,
     "metadata": {},
     "output_type": "execute_result"
    }
   ],
   "source": [
    "def window_vehicle(dfs, vehicle_id, width_forward, width_back, max_pos = 499, x4test=None):\n",
    "    vrow = dfs[dfs['vehicle_id'] == vehicle_id]\n",
    "    x = vrow['pos_x'].values[0]\n",
    "    y = vrow['pos_y'].values[0]\n",
    "    if x4test is not None:\n",
    "        x = x4test\n",
    "    x1 = x - width_back\n",
    "    x2 = x + width_forward \n",
    "    inds = np.logical_and(dfs['pos_x'] >= x1, dfs['pos_x'] < x2)\n",
    "\n",
    "    if x1 < 0:\n",
    "        inds = np.logical_or(inds, dfs['pos_x'] > max_pos + x1 )\n",
    "    if x2 > max_pos:\n",
    "        inds = np.logical_or(inds, dfs['pos_x'] < (x2 - max_pos) )\n",
    "    \n",
    "    df_window = dfs[inds].copy()\n",
    "\n",
    "    if x1 < 0:\n",
    "        df_window.loc[df_window['pos_x'] > max_pos + x1, 'pos_x'] -= max_pos+1\n",
    "    if x2 > max_pos:\n",
    "        df_window.loc[df_window['pos_x'] < (x2 - max_pos), 'pos_x'] += max_pos+1\n",
    "    df_window.loc[:, 'pos_x'] -= x -  width_back\n",
    "    \n",
    "    return df_window, x, y\n",
    "\n",
    "width_forward, width_back = 6, 4\n",
    "df2, x, y = window_vehicle(dfs, 1, width_forward, width_back)\n",
    "df2"
   ]
  },
  {
   "cell_type": "code",
   "execution_count": 44,
   "id": "8f445e8a-d3b3-4cf2-b5da-aec994c07f36",
   "metadata": {},
   "outputs": [
    {
     "data": {
      "text/plain": [
       "array([[[0, 0, 0, 0, 2, 0, 0, 0, 0, 0],\n",
       "        [0, 0, 3, 0, 1, 1, 0, 0, 0, 0]],\n",
       "\n",
       "       [[0, 0, 0, 0, 6, 0, 0, 0, 0, 0],\n",
       "        [0, 0, 5, 0, 3, 3, 0, 0, 0, 0]]], dtype=int8)"
      ]
     },
     "execution_count": 44,
     "metadata": {},
     "output_type": "execute_result"
    }
   ],
   "source": [
    "def npwindow(dfw, width):\n",
    "    res = np.zeros((2, 2, width), dtype=np.int8)\n",
    "    # [тип, скорость]\n",
    "    for i, (rowi, row) in enumerate(dfw.iterrows()):\n",
    "        vel = int(row['velocity'])\n",
    "        changed_line = int(row['changed_line'])  \n",
    "        stp = row['type']\n",
    "        tp = {'AV': 1, 'HDV': 2, 'HDV_DEF':3}[stp]\n",
    "        xi = int(row['pos_x'])\n",
    "        yi = int(row['pos_y'])\n",
    "        # print(xi, yi, vel)\n",
    "        res[0, yi, xi] = tp\n",
    "        res[1, yi, xi] = (vel + 1) * (-1 if changed_line else 1)\n",
    "    return res\n",
    "npwindow(df2, width_forward + width_back)"
   ]
  },
  {
   "cell_type": "code",
   "execution_count": 6,
   "id": "067826fe-707d-4575-bddf-c6f200b1c281",
   "metadata": {},
   "outputs": [],
   "source": [
    "with open('data/megadb_13_13.bin', 'rb') as f:\n",
    "    megadb = pickle.load(f)"
   ]
  },
  {
   "cell_type": "code",
   "execution_count": 7,
   "id": "185134d5-1fde-4c90-9bab-fda8e7fec065",
   "metadata": {},
   "outputs": [
    {
     "data": {
      "text/plain": [
       "dict_keys(['AV', 'HDV', 'HDV_DEF'])"
      ]
     },
     "execution_count": 7,
     "metadata": {},
     "output_type": "execute_result"
    }
   ],
   "source": [
    "megadb.keys()"
   ]
  },
  {
   "cell_type": "code",
   "execution_count": 8,
   "id": "e4a9f993-80d8-4bf5-b07b-6745f8d10b17",
   "metadata": {},
   "outputs": [
    {
     "name": "stdout",
     "output_type": "stream",
     "text": [
      "AV 5760\n",
      "HDV 6712\n",
      "HDV_DEF 6708\n"
     ]
    }
   ],
   "source": [
    "for k in megadb:\n",
    "    print(k, len(megadb[k]))"
   ]
  },
  {
   "cell_type": "code",
   "execution_count": 9,
   "id": "2f563bdf-d8a3-45cc-840d-77ddb553b6a4",
   "metadata": {},
   "outputs": [
    {
     "data": {
      "text/plain": [
       "array([[[ 0,  0,  3,  2,  0,  0,  0,  1,  0,  0,  0,  0,  0,  3,  3,  0,\n",
       "          0,  0,  0,  0,  0,  1,  0,  1,  0,  0,  0],\n",
       "        [ 0,  0,  2,  0,  0,  0,  3,  0,  0,  0,  1,  1,  0,  0,  0,  0,\n",
       "          0,  0,  2,  0,  0,  0,  1,  0,  1,  0,  0]],\n",
       "\n",
       "       [[ 0,  0,  4,  3,  0,  0,  0,  2,  0,  0,  0,  0,  0,  4,  4,  0,\n",
       "          0,  0,  0,  0,  0, -5,  0,  4,  0,  0,  0],\n",
       "        [ 0,  0,  3,  0,  0,  0,  2,  0,  0,  0,  3,  3,  0,  0,  0,  0,\n",
       "          0,  0,  4,  0,  0,  0,  5,  0,  4,  0,  0]]], dtype=int8)"
      ]
     },
     "execution_count": 9,
     "metadata": {},
     "output_type": "execute_result"
    }
   ],
   "source": [
    "megadb['HDV_DEF'][-6000][0][333]"
   ]
  },
  {
   "cell_type": "code",
   "execution_count": 10,
   "id": "0cacd2c9-326a-4580-a0b0-9e135ab49ef8",
   "metadata": {},
   "outputs": [],
   "source": [
    "from numba import jit\n",
    "from numba.core.errors import NumbaDeprecationWarning, NumbaPendingDeprecationWarning\n",
    "import warnings\n",
    "\n",
    "warnings.simplefilter('ignore', category=NumbaDeprecationWarning)\n",
    "warnings.simplefilter('ignore', category=NumbaPendingDeprecationWarning)"
   ]
  },
  {
   "cell_type": "code",
   "execution_count": 11,
   "id": "a944dc15-870f-4ea0-9597-6eb2ebf85ee7",
   "metadata": {},
   "outputs": [
    {
     "data": {
      "text/plain": [
       "array([[0, 1, 2],\n",
       "       [1, 2, 3],\n",
       "       [2, 3, 4],\n",
       "       [3, 4, 5]])"
      ]
     },
     "execution_count": 11,
     "metadata": {},
     "output_type": "execute_result"
    }
   ],
   "source": [
    "@jit\n",
    "def get_ind(xs_shape0, i_start, seq_len):\n",
    "    i = i_start\n",
    "    forslice = np.arange(i_start, i_start + xs_shape0)\n",
    "    inds = np.zeros((xs_shape0-seq_len+1, seq_len), dtype=np.int32)\n",
    "    for i in range(0, xs_shape0-seq_len+1):\n",
    "        # inds.append(np.arange(i+i_start, i_start+i+seq_len))\n",
    "        # inds.append(forslice[i:i+seq_len])\n",
    "        inds[i] = forslice[i:i+seq_len]\n",
    "    return inds\n",
    "\n",
    "xs = np.array([1,2,3,4,5,6])\n",
    "ys = np.array([1,2,3,4,5,6])+10\n",
    "\n",
    "ind = get_ind(xs.shape[0], 0, 3)\n",
    "ind"
   ]
  },
  {
   "cell_type": "code",
   "execution_count": 12,
   "id": "b499880c-3499-42f5-98d9-f836e66e2d8c",
   "metadata": {},
   "outputs": [
    {
     "data": {
      "text/plain": [
       "array([[1, 2, 3],\n",
       "       [2, 3, 4],\n",
       "       [3, 4, 5],\n",
       "       [4, 5, 6]])"
      ]
     },
     "execution_count": 12,
     "metadata": {},
     "output_type": "execute_result"
    }
   ],
   "source": [
    "xs[ind]"
   ]
  },
  {
   "cell_type": "code",
   "execution_count": 13,
   "id": "9f60f145-b100-4546-94c4-b2681a38e790",
   "metadata": {},
   "outputs": [],
   "source": [
    "xs = np.array([1,2,3,4,5,6])\n",
    "ys = np.zeros_like(xs)\n",
    "xs = xs.reshape(-1,1)\n",
    "ni = 0\n",
    "inds = []\n",
    "Xs = []\n",
    "Ys = []\n",
    "for i in range(4):\n",
    "    xs += 10 * i\n",
    "    ys[:] = i\n",
    "    ind = get_ind(xs.shape[0], ni, 4)\n",
    "    inds.append(ind)\n",
    "    Xs.append(np.array(xs))\n",
    "    Ys.append(np.array(ys))\n",
    "    ni += xs.shape[0]\n",
    "Xs = np.concatenate(Xs)\n",
    "Ys = np.concatenate(Ys)\n",
    "inds = np.vstack(inds)"
   ]
  },
  {
   "cell_type": "code",
   "execution_count": 14,
   "id": "b78aad0b-e9fd-4e56-b611-f8832a63fa62",
   "metadata": {},
   "outputs": [
    {
     "data": {
      "text/plain": [
       "array([[ 0,  1,  2,  3],\n",
       "       [ 1,  2,  3,  4],\n",
       "       [ 2,  3,  4,  5],\n",
       "       [ 6,  7,  8,  9],\n",
       "       [ 7,  8,  9, 10],\n",
       "       [ 8,  9, 10, 11],\n",
       "       [12, 13, 14, 15],\n",
       "       [13, 14, 15, 16],\n",
       "       [14, 15, 16, 17],\n",
       "       [18, 19, 20, 21],\n",
       "       [19, 20, 21, 22],\n",
       "       [20, 21, 22, 23]])"
      ]
     },
     "execution_count": 14,
     "metadata": {},
     "output_type": "execute_result"
    }
   ],
   "source": [
    "inds"
   ]
  },
  {
   "cell_type": "code",
   "execution_count": 15,
   "id": "239d3a05-3cb1-42a8-8953-d61b5f747887",
   "metadata": {},
   "outputs": [
    {
     "data": {
      "text/plain": [
       "array([[[ 1],\n",
       "        [ 2],\n",
       "        [ 3],\n",
       "        [ 4]],\n",
       "\n",
       "       [[ 2],\n",
       "        [ 3],\n",
       "        [ 4],\n",
       "        [ 5]],\n",
       "\n",
       "       [[ 3],\n",
       "        [ 4],\n",
       "        [ 5],\n",
       "        [ 6]],\n",
       "\n",
       "       [[11],\n",
       "        [12],\n",
       "        [13],\n",
       "        [14]],\n",
       "\n",
       "       [[12],\n",
       "        [13],\n",
       "        [14],\n",
       "        [15]],\n",
       "\n",
       "       [[13],\n",
       "        [14],\n",
       "        [15],\n",
       "        [16]],\n",
       "\n",
       "       [[31],\n",
       "        [32],\n",
       "        [33],\n",
       "        [34]],\n",
       "\n",
       "       [[32],\n",
       "        [33],\n",
       "        [34],\n",
       "        [35]],\n",
       "\n",
       "       [[33],\n",
       "        [34],\n",
       "        [35],\n",
       "        [36]],\n",
       "\n",
       "       [[61],\n",
       "        [62],\n",
       "        [63],\n",
       "        [64]],\n",
       "\n",
       "       [[62],\n",
       "        [63],\n",
       "        [64],\n",
       "        [65]],\n",
       "\n",
       "       [[63],\n",
       "        [64],\n",
       "        [65],\n",
       "        [66]]])"
      ]
     },
     "execution_count": 15,
     "metadata": {},
     "output_type": "execute_result"
    }
   ],
   "source": [
    "Xs[inds]"
   ]
  },
  {
   "cell_type": "code",
   "execution_count": 16,
   "id": "2f2bd596-4489-4ae8-9f3b-51751d9d6b89",
   "metadata": {},
   "outputs": [
    {
     "data": {
      "text/plain": [
       "array([[0, 0, 0, 0],\n",
       "       [0, 0, 0, 0],\n",
       "       [0, 0, 0, 0],\n",
       "       [1, 1, 1, 1],\n",
       "       [1, 1, 1, 1],\n",
       "       [1, 1, 1, 1],\n",
       "       [2, 2, 2, 2],\n",
       "       [2, 2, 2, 2],\n",
       "       [2, 2, 2, 2],\n",
       "       [3, 3, 3, 3],\n",
       "       [3, 3, 3, 3],\n",
       "       [3, 3, 3, 3]])"
      ]
     },
     "execution_count": 16,
     "metadata": {},
     "output_type": "execute_result"
    }
   ],
   "source": [
    "Ys[inds]"
   ]
  },
  {
   "cell_type": "code",
   "execution_count": 63,
   "id": "8d46d8a9-d6ee-467c-9ef9-f1bae3515ea5",
   "metadata": {},
   "outputs": [
    {
     "data": {
      "text/plain": [
       "array([[ 1,  2,  3,  4,  5,  6, 11, 12, 13, 14, 15, 16],\n",
       "       [ 1,  2,  3,  4,  5,  6, 11, 12, 13, 14, 15, 16],\n",
       "       [ 1,  2,  3,  4,  5,  6, 11, 12, 13, 14, 15, 16]])"
      ]
     },
     "execution_count": 63,
     "metadata": {},
     "output_type": "execute_result"
    }
   ],
   "source": [
    "np.array( [[[1,2,3,4,5,6],\n",
    "        [ 11,12,13,14,15,16]]]*3).reshape(-1,12)"
   ]
  },
  {
   "cell_type": "code",
   "execution_count": null,
   "id": "d7d5ba4f-1263-4cb2-b2ed-90fc12e948fb",
   "metadata": {},
   "outputs": [],
   "source": [
    "import torch as T\n",
    "import torch.nn as nn"
   ]
  },
  {
   "cell_type": "code",
   "execution_count": 106,
   "id": "f6656215-022e-4ce2-93ea-e0951509a115",
   "metadata": {},
   "outputs": [
    {
     "data": {
      "text/plain": [
       "array([1, 2, 3, 4, 5])"
      ]
     },
     "execution_count": 106,
     "metadata": {},
     "output_type": "execute_result"
    }
   ],
   "source": [
    "np.hstack([[1,2], [3,4,5]])"
   ]
  },
  {
   "cell_type": "code",
   "execution_count": 150,
   "id": "1fdbc168-ba18-4c22-b269-dabacd55de11",
   "metadata": {},
   "outputs": [],
   "source": [
    "from collections import Counter"
   ]
  },
  {
   "cell_type": "code",
   "execution_count": 151,
   "id": "da627880-6c84-4e51-a60f-2b661637319f",
   "metadata": {},
   "outputs": [
    {
     "name": "stderr",
     "output_type": "stream",
     "text": [
      "100%|███████████████████████████████████████████████████████████████████████████████████████████████████████████████████████████████████████████████████| 5760/5760 [00:00<00:00, 43638.50it/s]\n"
     ]
    },
    {
     "name": "stdout",
     "output_type": "stream",
     "text": [
      "Counter({0: 5760})\n"
     ]
    },
    {
     "name": "stderr",
     "output_type": "stream",
     "text": [
      "100%|███████████████████████████████████████████████████████████████████████████████████████████████████████████████████████████████████████████████████| 6712/6712 [00:00<00:00, 44493.18it/s]\n"
     ]
    },
    {
     "name": "stdout",
     "output_type": "stream",
     "text": [
      "Counter({1: 6712})\n"
     ]
    },
    {
     "name": "stderr",
     "output_type": "stream",
     "text": [
      "100%|███████████████████████████████████████████████████████████████████████████████████████████████████████████████████████████████████████████████████| 6708/6708 [00:00<00:00, 44287.20it/s]"
     ]
    },
    {
     "name": "stdout",
     "output_type": "stream",
     "text": [
      "Counter({2: 6708})\n"
     ]
    },
    {
     "name": "stderr",
     "output_type": "stream",
     "text": [
      "\n"
     ]
    }
   ],
   "source": [
    "\n",
    "for k in megadb:\n",
    "    episodes = megadb[k]\n",
    "    c = []\n",
    "    for xs, ys in tqdm(episodes):\n",
    "        xxs = xs[:, 1, :, :]\n",
    "        shapex = xxs.shape\n",
    "        # print(xxs.reshape(shapex[0], -1).shape)\n",
    "        # print(ys.shape)\n",
    "        rr = np.hstack([ys.reshape(-1, 1), xxs.reshape(shapex[0], -1)])\n",
    "        c.append(xs[0, 0, :, :][ys[0], xs.shape[-1]//2] - 1)\n",
    "    print(Counter(c))"
   ]
  },
  {
   "cell_type": "code",
   "execution_count": 166,
   "id": "6ad3085c-8773-4ea6-a319-02cfe5a57a8e",
   "metadata": {},
   "outputs": [
    {
     "data": {
      "text/plain": [
       "array([[2, 2, 2, 0, 0, 2, 2, 2, 2, 2, 2, 2, 2, 2, 2, 2, 2, 0, 3, 3, 3, 3,\n",
       "        3, 3, 3, 3, 3, 3, 3, 3, 3, 3, 3, 3, 3, 3, 3, 3, 3, 3, 3, 3, 3, 3,\n",
       "        3, 3, 3, 3, 3, 3],\n",
       "       [3, 3, 3, 3, 3, 3, 3, 3, 3, 3, 3, 3, 3, 3, 3, 3, 3, 3, 2, 3, 2, 2,\n",
       "        2, 2, 2, 0, 0, 2, 2, 2, 3, 3, 3, 3, 3, 3, 3, 3, 3, 0, 3, 0, 2, 2,\n",
       "        2, 2, 3, 3, 3, 3]], dtype=int8)"
      ]
     },
     "execution_count": 166,
     "metadata": {},
     "output_type": "execute_result"
    }
   ],
   "source": [
    "xs[:50, 0, :, xs.shape[-1]//2].T"
   ]
  },
  {
   "cell_type": "code",
   "execution_count": 168,
   "id": "6d082c65-7bc5-43d3-8b25-12d34335548c",
   "metadata": {},
   "outputs": [
    {
     "data": {
      "text/plain": [
       "array([[2, 2, 2, 2, 2, 2, 2, 2, 2, 2, 2, 2, 2, 2, 2, 2, 2, 2, 2, 2, 2, 2,\n",
       "        2, 2, 2, 2, 2, 2, 2, 2, 2, 2, 2, 2, 2, 2, 2, 2, 2, 2, 2, 2, 2, 2,\n",
       "        2, 2, 2, 2, 2, 2],\n",
       "       [3, 3, 3, 3, 3, 3, 3, 3, 3, 3, 3, 3, 3, 3, 3, 3, 3, 3, 3, 3, 3, 3,\n",
       "        3, 3, 3, 3, 3, 3, 3, 3, 3, 3, 3, 3, 3, 3, 3, 3, 3, 3, 3, 3, 3, 3,\n",
       "        3, 3, 3, 3, 3, 3]], dtype=int8)"
      ]
     },
     "execution_count": 168,
     "metadata": {},
     "output_type": "execute_result"
    }
   ],
   "source": [
    "xs[:50, 0, :, xs.shape[-1]//2].T[:,ys[:50]]"
   ]
  },
  {
   "cell_type": "code",
   "execution_count": 137,
   "id": "d631ddb7-b3b1-4d40-9f99-44cc9435c59a",
   "metadata": {},
   "outputs": [
    {
     "data": {
      "text/plain": [
       "5760"
      ]
     },
     "execution_count": 137,
     "metadata": {},
     "output_type": "execute_result"
    }
   ],
   "source": [
    "len(episodes)"
   ]
  },
  {
   "cell_type": "code",
   "execution_count": 144,
   "id": "98b1e8aa-33c0-483d-b11b-63c2a67b2263",
   "metadata": {},
   "outputs": [],
   "source": [
    "xs, ys = episodes[3000]"
   ]
  },
  {
   "cell_type": "code",
   "execution_count": 145,
   "id": "a3803867-073f-4d8f-8f39-07c3fb0aa7fa",
   "metadata": {},
   "outputs": [
    {
     "data": {
      "text/plain": [
       "0"
      ]
     },
     "execution_count": 145,
     "metadata": {},
     "output_type": "execute_result"
    }
   ],
   "source": [
    "xs[0, 0, :, :][ys[0], xs.shape[-1]//2] - 1"
   ]
  },
  {
   "cell_type": "code",
   "execution_count": 116,
   "id": "b4bb079d-91f4-4764-8cf0-50d4258c5d86",
   "metadata": {},
   "outputs": [
    {
     "data": {
      "text/plain": [
       "array([[ True,  True,  True, ...,  True,  True,  True],\n",
       "       [ True,  True,  True, ...,  True,  True,  True],\n",
       "       [ True,  True,  True, ...,  True,  True,  True],\n",
       "       ...,\n",
       "       [ True,  True,  True, ...,  True,  True,  True],\n",
       "       [ True,  True,  True, ...,  True,  True,  True],\n",
       "       [ True,  True,  True, ...,  True,  True,  True]])"
      ]
     },
     "execution_count": 116,
     "metadata": {},
     "output_type": "execute_result"
    }
   ],
   "source": [
    "rr[:, 1:] == xxs.reshape(shapex[0], -1)"
   ]
  },
  {
   "cell_type": "code",
   "execution_count": 66,
   "id": "9ee3f581-15a2-4e43-bbba-4b650f4f436c",
   "metadata": {},
   "outputs": [
    {
     "name": "stderr",
     "output_type": "stream",
     "text": [
      "100%|███████████████████████████████████████████████████████████████████████████████████████████████████████████████████████████████████████████████████| 5760/5760 [00:00<00:00, 42305.50it/s]\n",
      "100%|███████████████████████████████████████████████████████████████████████████████████████████████████████████████████████████████████████████████████| 6712/6712 [00:00<00:00, 38627.21it/s]\n",
      "100%|███████████████████████████████████████████████████████████████████████████████████████████████████████████████████████████████████████████████████| 6708/6708 [00:00<00:00, 42393.26it/s]\n"
     ]
    },
    {
     "data": {
      "text/plain": [
       "(torch.Size([19180000, 54]),\n",
       " torch.Size([19180000]),\n",
       " torch.Size([18949840, 13]))"
      ]
     },
     "execution_count": 66,
     "metadata": {},
     "output_type": "execute_result"
    }
   ],
   "source": [
    "def megeres2seq_dataset(megadb, seq_len):\n",
    "    inds = []\n",
    "    Xs = []\n",
    "    Ys = []\n",
    "    ni = 0\n",
    "    for k in megadb:\n",
    "        episodes = megadb[k]\n",
    "        for xs, ys in tqdm(episodes):\n",
    "            ind = get_ind(xs.shape[0], ni, seq_len)\n",
    "            inds.append(ind)\n",
    "            xxs = xs[:, 1, :, :]\n",
    "            shapex = xxs.shape\n",
    "            Xs.append(np.concatenate([ypos, xxs.reshape(shapex[0], -1)]))\n",
    "            Ys.append(ys)\n",
    "            ni += xs.shape[0]\n",
    "    Xs = np.concatenate(Xs)\n",
    "    Ys = np.concatenate(Ys)\n",
    "    inds = np.vstack(inds)\n",
    "    dt = T.float32\n",
    "    return T.tensor(Xs, dtype=dt), T.tensor(Ys, dtype=dt), T.tensor(inds)\n",
    "            \n",
    "Xs, Ys, inds = megeres2seq_dataset(megadb, 13)\n",
    "Xs.shape, Ys.shape, inds.shape"
   ]
  },
  {
   "cell_type": "code",
   "execution_count": 100,
   "id": "2710080e-eb2f-4cd0-9a5f-8e1fe496ae0f",
   "metadata": {},
   "outputs": [
    {
     "data": {
      "text/plain": [
       "tensor([0., 0., 0., 0., 0., 0., 0., 0., 0., 0., 0., 0., 0.])"
      ]
     },
     "execution_count": 100,
     "metadata": {},
     "output_type": "execute_result"
    }
   ],
   "source": [
    "Ys[inds[-9099]]"
   ]
  },
  {
   "cell_type": "code",
   "execution_count": 19,
   "id": "677608ee-f913-4b12-810c-1c79d39f2936",
   "metadata": {},
   "outputs": [],
   "source": []
  },
  {
   "cell_type": "code",
   "execution_count": 54,
   "id": "04edbfe5-0db5-4d68-8caa-89330945d350",
   "metadata": {},
   "outputs": [],
   "source": [
    "conv = nn.Conv2d(1, 3, 2)"
   ]
  },
  {
   "cell_type": "code",
   "execution_count": 56,
   "id": "c93adc17-f0bb-4f7f-bbdd-20046ea91a9d",
   "metadata": {},
   "outputs": [],
   "source": [
    "x = Xs[inds[333]][:, None, :, :]"
   ]
  },
  {
   "cell_type": "code",
   "execution_count": 57,
   "id": "7b5c5568-7b26-478c-8c78-d99679ca2eb0",
   "metadata": {},
   "outputs": [
    {
     "data": {
      "text/plain": [
       "torch.Size([13, 1, 2, 27])"
      ]
     },
     "execution_count": 57,
     "metadata": {},
     "output_type": "execute_result"
    }
   ],
   "source": [
    "x.shape"
   ]
  },
  {
   "cell_type": "code",
   "execution_count": 59,
   "id": "f72cd421-4ee7-477f-9eee-9bff17bd6772",
   "metadata": {},
   "outputs": [
    {
     "data": {
      "text/plain": [
       "torch.Size([13, 3, 1, 26])"
      ]
     },
     "execution_count": 59,
     "metadata": {},
     "output_type": "execute_result"
    }
   ],
   "source": [
    "y = conv(x)\n",
    "y.shape"
   ]
  },
  {
   "cell_type": "code",
   "execution_count": 96,
   "id": "a7cbb02b-e9cb-4e5b-b4ce-5fc9cd3abfdb",
   "metadata": {},
   "outputs": [
    {
     "data": {
      "text/plain": [
       "tensor([[-99., -99., -99.,   0.]])"
      ]
     },
     "execution_count": 96,
     "metadata": {},
     "output_type": "execute_result"
    }
   ],
   "source": [
    "inp = nn.functional.log_softmax(T.tensor([[0,0,0,99.]]), dim=1)\n",
    "inp"
   ]
  },
  {
   "cell_type": "code",
   "execution_count": 98,
   "id": "f4ef1e56-2b61-41ea-95a7-643ff3821564",
   "metadata": {},
   "outputs": [
    {
     "data": {
      "text/plain": [
       "tensor(99.)"
      ]
     },
     "execution_count": 98,
     "metadata": {},
     "output_type": "execute_result"
    }
   ],
   "source": [
    "nn.functional.nll_loss(inp, T.tensor([0]))"
   ]
  }
 ],
 "metadata": {
  "kernelspec": {
   "display_name": "Python3.9 env_swrm",
   "language": "python",
   "name": "env_swrm"
  },
  "language_info": {
   "codemirror_mode": {
    "name": "ipython",
    "version": 3
   },
   "file_extension": ".py",
   "mimetype": "text/x-python",
   "name": "python",
   "nbconvert_exporter": "python",
   "pygments_lexer": "ipython3",
   "version": "3.9.16"
  }
 },
 "nbformat": 4,
 "nbformat_minor": 5
}
